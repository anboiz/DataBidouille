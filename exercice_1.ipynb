{
 "cells": [
  {
   "cell_type": "code",
   "execution_count": null,
   "metadata": {},
   "outputs": [],
   "source": [
    "import exercice_1_utils"
   ]
  },
  {
   "attachments": {},
   "cell_type": "markdown",
   "metadata": {},
   "source": [
    "# Exercice 1 : charger des données"
   ]
  },
  {
   "attachments": {},
   "cell_type": "markdown",
   "metadata": {},
   "source": [
    "## Avant tout : récupérer les outils (bibliothèques) nécessaires\n",
    "\n",
    "Pour manipuler les données nous allons faire appel à la bibliothèque appelée ```pandas```. Comme nous allons l'utiliser très (très très) souvent, pour ne pas avoir à réécrire pandas à on lui donne un alias plus court ```pd```.\n",
    "\n",
    "Ainsi plutôt qu'écrire :\n",
    "\n",
    "```python\n",
    "import pandas\n",
    "pandas.une_fonctionnalite_tres_utile()\n",
    "c = pandas.une_autre_fonctionnalite_encore_plus_utile()\n",
    "```\n",
    "On écrira :\n",
    "\n",
    "```python\n",
    "import pandas as pd\n",
    "pd.une_fonctionnalite_tres_utile()\n",
    "c = pd.une_autre_fonctionnalite_encore_plus_utile()\n",
    "```"
   ]
  },
  {
   "cell_type": "code",
   "execution_count": null,
   "metadata": {},
   "outputs": [],
   "source": [
    "import pandas as pd"
   ]
  },
  {
   "attachments": {},
   "cell_type": "markdown",
   "metadata": {},
   "source": [
    "## Lire des données\n",
    "\n",
    "En l'occurrence ```pandas``` fournit des outils pour lire des données. C'est le cas notamment les fonctions **```pd.read_excel()```** pour lire des fichiers xlsx ou ods et **```pd.read_csv()```** pour lire un fichier csv.\n",
    "\n",
    "Ces fonctions auront besoin du chemin d'accès vers le fichier que l'on souhaite lire. Exemple : ``` 'mon_repertoire_de_donnees/mon_fichier_lire.xlsx' ```.\n",
    "\n",
    "Pour plus d'informations vous pouvez vous référer à la documentation (très bien faite mais en anglais...) :\n",
    "- [pd.read_excel()](https://pandas.pydata.org/docs/reference/api/pandas.read_excel.html)\n",
    "- [pd.read_csv()](https://pandas.pydata.org/docs/reference/api/pandas.read_csv.html)"
   ]
  },
  {
   "attachments": {},
   "cell_type": "markdown",
   "metadata": {},
   "source": [
    "### Application 1.1 : lire un fichier excel\n",
    "\n"
   ]
  },
  {
   "cell_type": "code",
   "execution_count": null,
   "metadata": {},
   "outputs": [],
   "source": [
    "batiments =    # <- Ici, à vous de jouer !\n",
    "\n",
    "exercice_1_utils.correction_exercice.check(batiments)"
   ]
  }
 ],
 "metadata": {
  "kernelspec": {
   "display_name": "data_env",
   "language": "python",
   "name": "python3"
  },
  "language_info": {
   "codemirror_mode": {
    "name": "ipython",
    "version": 3
   },
   "file_extension": ".py",
   "mimetype": "text/x-python",
   "name": "python",
   "nbconvert_exporter": "python",
   "pygments_lexer": "ipython3",
   "version": "3.9.7"
  },
  "orig_nbformat": 4
 },
 "nbformat": 4,
 "nbformat_minor": 2
}
