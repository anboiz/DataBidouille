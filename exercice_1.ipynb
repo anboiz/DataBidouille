{
 "cells": [
  {
   "cell_type": "code",
   "execution_count": 6,
   "metadata": {},
   "outputs": [],
   "source": [
    "import exercice_1_utils"
   ]
  },
  {
   "attachments": {},
   "cell_type": "markdown",
   "metadata": {},
   "source": [
    "# Exercice 1 : charger des données"
   ]
  },
  {
   "attachments": {},
   "cell_type": "markdown",
   "metadata": {},
   "source": [
    "## Avant tout : récupérer les outils (bibliothèques) nécessaires\n",
    "\n",
    "Pour manipuler les données nous allons faire appel à la bibliothèque appelée ```pandas```. Comme nous allons l'utiliser très (très très) souvent, pour ne pas avoir à réécrire pandas à on lui donne un alias plus court ```pd```.\n",
    "\n",
    "Ainsi plutôt qu'écrire :\n",
    "\n",
    "```python\n",
    "import pandas\n",
    "pandas.une_fonctionnalite_tres_utile()\n",
    "c = pandas.une_autre_fonctionnalite_encore_plus_utile()\n",
    "```\n",
    "On écrira :\n",
    "\n",
    "```python\n",
    "import pandas as pd\n",
    "pd.une_fonctionnalite_tres_utile()\n",
    "c = pd.une_autre_fonctionnalite_encore_plus_utile()\n",
    "```"
   ]
  },
  {
   "cell_type": "code",
   "execution_count": 7,
   "metadata": {},
   "outputs": [],
   "source": [
    "import pandas as pd"
   ]
  },
  {
   "attachments": {},
   "cell_type": "markdown",
   "metadata": {},
   "source": [
    "## Lire des données\n",
    "\n",
    "En l'occurrence ```pandas``` fournit des outils pour lire des données. C'est le cas notamment les fonctions **```pd.read_excel()```** pour lire des fichiers xlsx ou ods et **```pd.read_csv()```** pour lire un fichier csv.\n",
    "\n",
    "Ces fonctions auront besoin du chemin d'accès vers le fichier que l'on souhaite lire. Exemple : ``` 'mon_repertoire_de_donnees/mon_fichier_lire.xlsx' ```.\n",
    "\n",
    "Pour plus d'informations, vous pouvez vous référer à la documentation (très bien faite mais en anglais...) :\n",
    "- [pd.read_excel()](https://pandas.pydata.org/docs/reference/api/pandas.read_excel.html)\n",
    "- [pd.read_csv()](https://pandas.pydata.org/docs/reference/api/pandas.read_csv.html)\n",
    "\n",
    "Ces fonctions restituent les données sous la forme d'un tableau de données (```DataFrame```). Le fait que les données soient stockées dans un tableau de données facilitera leur manipulation et leur exploration. La documentation est disponible en ligne : [pd.DataFrame](https://pandas.pydata.org/docs/reference/api/pandas.DataFrame.html)."
   ]
  },
  {
   "attachments": {},
   "cell_type": "markdown",
   "metadata": {},
   "source": [
    "### Application 1.1 : lire un fichier excel\n",
    "\n",
    "Le premier exercice consiste à lire un fichier Excel (xlsx).\n",
    "Le fichier en question est le fichier nommé ```batiments_00.xlsx```. Il se trouve dans le dossier ```data/batiments```.\n",
    "\n",
    "Nous rangerons les informations dans une variable appelée ```batiments```\n"
   ]
  },
  {
   "cell_type": "code",
   "execution_count": 8,
   "metadata": {},
   "outputs": [
    {
     "name": "stdout",
     "output_type": "stream",
     "text": [
      "\u001b[32m👏 Bravo ! 🥳\n",
      "\u001b[0m\n"
     ]
    }
   ],
   "source": [
    "batiments =   # <- Ici, à vous de jouer !\n",
    "\n",
    "exercice_1_utils.correction_exercice.check(batiments)"
   ]
  },
  {
   "attachments": {},
   "cell_type": "markdown",
   "metadata": {},
   "source": [
    "Pour vérifier la lecture, et découvrir les données plusieurs fonctionnalités vont être utiles :"
   ]
  },
  {
   "attachments": {},
   "cell_type": "markdown",
   "metadata": {},
   "source": [
    "- [info()](https://pandas.pydata.org/docs/reference/api/pandas.DataFrame.info.html) qui affiche un résumé des données"
   ]
  },
  {
   "cell_type": "code",
   "execution_count": 9,
   "metadata": {},
   "outputs": [
    {
     "name": "stdout",
     "output_type": "stream",
     "text": [
      "<class 'pandas.core.frame.DataFrame'>\n",
      "RangeIndex: 8972 entries, 0 to 8971\n",
      "Data columns (total 7 columns):\n",
      " #   Column                Non-Null Count  Dtype \n",
      "---  ------                --------------  ----- \n",
      " 0   identifiant_site      8972 non-null   int64 \n",
      " 1   identifiant_batiment  8972 non-null   int64 \n",
      " 2   code_insee            8972 non-null   object\n",
      " 3   adresse               8972 non-null   object\n",
      " 4   Code_commune_INSEE    8972 non-null   object\n",
      " 5   Nom_commune           8972 non-null   object\n",
      " 6   Code_postal           8972 non-null   int64 \n",
      "dtypes: int64(3), object(4)\n",
      "memory usage: 490.8+ KB\n"
     ]
    }
   ],
   "source": [
    "batiments.info()"
   ]
  },
  {
   "attachments": {},
   "cell_type": "markdown",
   "metadata": {},
   "source": [
    "- [head(n)](https://pandas.pydata.org/docs/reference/api/pandas.DataFrame.head.html) qui affiche les n premières lignes (par défaut 5)."
   ]
  },
  {
   "cell_type": "code",
   "execution_count": 10,
   "metadata": {},
   "outputs": [
    {
     "data": {
      "text/html": [
       "<div>\n",
       "<style scoped>\n",
       "    .dataframe tbody tr th:only-of-type {\n",
       "        vertical-align: middle;\n",
       "    }\n",
       "\n",
       "    .dataframe tbody tr th {\n",
       "        vertical-align: top;\n",
       "    }\n",
       "\n",
       "    .dataframe thead th {\n",
       "        text-align: right;\n",
       "    }\n",
       "</style>\n",
       "<table border=\"1\" class=\"dataframe\">\n",
       "  <thead>\n",
       "    <tr style=\"text-align: right;\">\n",
       "      <th></th>\n",
       "      <th>identifiant_site</th>\n",
       "      <th>identifiant_batiment</th>\n",
       "      <th>code_insee</th>\n",
       "      <th>adresse</th>\n",
       "      <th>Code_commune_INSEE</th>\n",
       "      <th>Nom_commune</th>\n",
       "      <th>Code_postal</th>\n",
       "    </tr>\n",
       "  </thead>\n",
       "  <tbody>\n",
       "    <tr>\n",
       "      <th>0</th>\n",
       "      <td>115640</td>\n",
       "      <td>524295</td>\n",
       "      <td>65063</td>\n",
       "      <td>140 rue de Paris</td>\n",
       "      <td>65063</td>\n",
       "      <td>BARBAZAN DESSUS</td>\n",
       "      <td>65360</td>\n",
       "    </tr>\n",
       "    <tr>\n",
       "      <th>1</th>\n",
       "      <td>227437</td>\n",
       "      <td>524306</td>\n",
       "      <td>80656</td>\n",
       "      <td>74 rue de Paris</td>\n",
       "      <td>80656</td>\n",
       "      <td>QUEVAUVILLERS</td>\n",
       "      <td>80710</td>\n",
       "    </tr>\n",
       "    <tr>\n",
       "      <th>2</th>\n",
       "      <td>181564</td>\n",
       "      <td>524313</td>\n",
       "      <td>65131</td>\n",
       "      <td>85 rue du marechal juin</td>\n",
       "      <td>65131</td>\n",
       "      <td>CASTELVIEILH</td>\n",
       "      <td>65350</td>\n",
       "    </tr>\n",
       "    <tr>\n",
       "      <th>3</th>\n",
       "      <td>127485</td>\n",
       "      <td>524316</td>\n",
       "      <td>59146</td>\n",
       "      <td>78 avenue de Paris</td>\n",
       "      <td>59146</td>\n",
       "      <td>CHERENG</td>\n",
       "      <td>59152</td>\n",
       "    </tr>\n",
       "    <tr>\n",
       "      <th>4</th>\n",
       "      <td>187856</td>\n",
       "      <td>524318</td>\n",
       "      <td>80476</td>\n",
       "      <td>108 avenue des capucins</td>\n",
       "      <td>80476</td>\n",
       "      <td>LIERCOURT</td>\n",
       "      <td>80580</td>\n",
       "    </tr>\n",
       "    <tr>\n",
       "      <th>5</th>\n",
       "      <td>140917</td>\n",
       "      <td>524326</td>\n",
       "      <td>23008</td>\n",
       "      <td>37 place de la paix</td>\n",
       "      <td>23008</td>\n",
       "      <td>AUBUSSON</td>\n",
       "      <td>23200</td>\n",
       "    </tr>\n",
       "    <tr>\n",
       "      <th>6</th>\n",
       "      <td>107924</td>\n",
       "      <td>524331</td>\n",
       "      <td>27632</td>\n",
       "      <td>67 boulevard de la paix</td>\n",
       "      <td>27632</td>\n",
       "      <td>LE THIL</td>\n",
       "      <td>27150</td>\n",
       "    </tr>\n",
       "    <tr>\n",
       "      <th>7</th>\n",
       "      <td>114536</td>\n",
       "      <td>524334</td>\n",
       "      <td>01291</td>\n",
       "      <td>121 allee du manque d'inspiration</td>\n",
       "      <td>01291</td>\n",
       "      <td>PERREX</td>\n",
       "      <td>1540</td>\n",
       "    </tr>\n",
       "    <tr>\n",
       "      <th>8</th>\n",
       "      <td>223994</td>\n",
       "      <td>524335</td>\n",
       "      <td>77426</td>\n",
       "      <td>23 boulevard des capucins</td>\n",
       "      <td>77426</td>\n",
       "      <td>ST MERY</td>\n",
       "      <td>77720</td>\n",
       "    </tr>\n",
       "    <tr>\n",
       "      <th>9</th>\n",
       "      <td>142901</td>\n",
       "      <td>524337</td>\n",
       "      <td>14578</td>\n",
       "      <td>116 place des fleurs</td>\n",
       "      <td>14578</td>\n",
       "      <td>ST GATIEN DES BOIS</td>\n",
       "      <td>14130</td>\n",
       "    </tr>\n",
       "  </tbody>\n",
       "</table>\n",
       "</div>"
      ],
      "text/plain": [
       "   identifiant_site  identifiant_batiment code_insee  \\\n",
       "0            115640                524295      65063   \n",
       "1            227437                524306      80656   \n",
       "2            181564                524313      65131   \n",
       "3            127485                524316      59146   \n",
       "4            187856                524318      80476   \n",
       "5            140917                524326      23008   \n",
       "6            107924                524331      27632   \n",
       "7            114536                524334      01291   \n",
       "8            223994                524335      77426   \n",
       "9            142901                524337      14578   \n",
       "\n",
       "                             adresse Code_commune_INSEE         Nom_commune  \\\n",
       "0                   140 rue de Paris              65063     BARBAZAN DESSUS   \n",
       "1                    74 rue de Paris              80656       QUEVAUVILLERS   \n",
       "2            85 rue du marechal juin              65131        CASTELVIEILH   \n",
       "3                 78 avenue de Paris              59146             CHERENG   \n",
       "4            108 avenue des capucins              80476           LIERCOURT   \n",
       "5                37 place de la paix              23008            AUBUSSON   \n",
       "6            67 boulevard de la paix              27632             LE THIL   \n",
       "7  121 allee du manque d'inspiration              01291              PERREX   \n",
       "8          23 boulevard des capucins              77426             ST MERY   \n",
       "9               116 place des fleurs              14578  ST GATIEN DES BOIS   \n",
       "\n",
       "   Code_postal  \n",
       "0        65360  \n",
       "1        80710  \n",
       "2        65350  \n",
       "3        59152  \n",
       "4        80580  \n",
       "5        23200  \n",
       "6        27150  \n",
       "7         1540  \n",
       "8        77720  \n",
       "9        14130  "
      ]
     },
     "execution_count": 10,
     "metadata": {},
     "output_type": "execute_result"
    }
   ],
   "source": [
    "batiments.head(10)"
   ]
  },
  {
   "attachments": {},
   "cell_type": "markdown",
   "metadata": {},
   "source": [
    "## Application 1.2 : lire un fichier csv"
   ]
  },
  {
   "attachments": {},
   "cell_type": "markdown",
   "metadata": {},
   "source": [
    "Le second exercice consiste à lire un fichier csv (Comma-separated values).\n",
    "Le fichier en question est le fichier nommé ```laposte_hexasmal.csv```. Il se trouve dans le dossier ```data```.\n",
    "\n",
    "Nous rangerons les informations dans une variable appelée ```code_postal```.\n",
    "\n",
    "> ⚠️ si le caractère séparant les cases n'est pas la virgule (```,```), il est nécessaire d'ajouter le paramètre ```sep```.\n",
    ">\n",
    "> Exemple, si les champs sont séparés par un 'pipe' (|), il faudra ecrire :\n",
    "> ``` python\n",
    ">   mes_donnees = pd.read_csv('mon_chemin/dacces', sep = '|')\n",
    "> ```\n"
   ]
  }
 ],
 "metadata": {
  "kernelspec": {
   "display_name": "data_env",
   "language": "python",
   "name": "python3"
  },
  "language_info": {
   "codemirror_mode": {
    "name": "ipython",
    "version": 3
   },
   "file_extension": ".py",
   "mimetype": "text/x-python",
   "name": "python",
   "nbconvert_exporter": "python",
   "pygments_lexer": "ipython3",
   "version": "3.9.7"
  },
  "orig_nbformat": 4
 },
 "nbformat": 4,
 "nbformat_minor": 2
}
