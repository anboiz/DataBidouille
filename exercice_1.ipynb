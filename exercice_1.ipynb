{
 "cells": [
  {
   "cell_type": "code",
   "execution_count": null,
   "metadata": {},
   "outputs": [],
   "source": [
    "import exercice_1_utils"
   ]
  },
  {
   "attachments": {},
   "cell_type": "markdown",
   "metadata": {},
   "source": [
    "# Exercice 1 : charger des données"
   ]
  },
  {
   "attachments": {},
   "cell_type": "markdown",
   "metadata": {},
   "source": [
    "## Avant tout : récupérer les outils (bibliothèques) nécessaires\n",
    "\n",
    "Pour manipuler les données nous allons faire appel à la bibliothèque appelée ```pandas```. Comme nous allons l'utiliser très (très très) souvent, pour ne pas avoir à réécrire pandas à on lui donne un alias plus court ```pd```.\n",
    "\n",
    "Ainsi plutôt qu'écrire :\n",
    "\n",
    "```python\n",
    "import pandas\n",
    "pandas.une_fonctionnalite_tres_utile()\n",
    "c = pandas.une_autre_fonctionnalite_encore_plus_utile()\n",
    "```\n",
    "On écrira :\n",
    "\n",
    "```python\n",
    "import pandas as pd\n",
    "pd.une_fonctionnalite_tres_utile()\n",
    "c = pd.une_autre_fonctionnalite_encore_plus_utile()\n",
    "```"
   ]
  },
  {
   "cell_type": "code",
   "execution_count": null,
   "metadata": {},
   "outputs": [],
   "source": [
    "import pandas as pd"
   ]
  },
  {
   "attachments": {},
   "cell_type": "markdown",
   "metadata": {},
   "source": [
    "## Lire des données\n",
    "\n",
    "En l'occurrence ```pandas``` fournit des outils pour lire des données. C'est le cas notamment les fonctions **```pd.read_excel()```** pour lire des fichiers xlsx ou ods et **```pd.read_csv()```** pour lire un fichier csv.\n",
    "\n",
    "Ces fonctions auront besoin du chemin d'accès vers le fichier que l'on souhaite lire. Exemple : ``` 'mon_repertoire_de_donnees/mon_fichier_lire.xlsx' ```.\n",
    "\n",
    "Pour plus d'informations, vous pouvez vous référer à la documentation (très bien faite mais en anglais...) :\n",
    "- [pd.read_excel()](https://pandas.pydata.org/docs/reference/api/pandas.read_excel.html)\n",
    "- [pd.read_csv()](https://pandas.pydata.org/docs/reference/api/pandas.read_csv.html)\n",
    "\n",
    "Ces fonctions restituent les données sous la forme d'un tableau de données (```DataFrame```). Le fait que les données soient stockées dans un tableau de données facilitera leur manipulation et leur exploration. La documentation est disponible en ligne : [pd.DataFrame](https://pandas.pydata.org/docs/reference/api/pandas.DataFrame.html)."
   ]
  },
  {
   "attachments": {},
   "cell_type": "markdown",
   "metadata": {},
   "source": [
    "### Application 1.1 : lire un fichier excel\n",
    "\n",
    "Le premier exercice consiste à lire un fichier Excel (xlsx).\n",
    "Le fichier en question est le fichier nommé ```batiments_00.xlsx```. Il se trouve dans le dossier ```data/batiments```.\n",
    "\n",
    "Nous rangerons les informations dans une variable appelée ```batiments```\n"
   ]
  },
  {
   "cell_type": "code",
   "execution_count": null,
   "metadata": {},
   "outputs": [],
   "source": [
    "batiments =  # <- Ici, à vous de jouer !\n",
    "\n",
    "exercice_1_utils.correction_exercice_1_1.check(batiments)"
   ]
  },
  {
   "attachments": {},
   "cell_type": "markdown",
   "metadata": {},
   "source": [
    "Pour vérifier la lecture, et découvrir les données plusieurs fonctionnalités vont être utiles :"
   ]
  },
  {
   "attachments": {},
   "cell_type": "markdown",
   "metadata": {},
   "source": [
    "- [info()](https://pandas.pydata.org/docs/reference/api/pandas.DataFrame.info.html) qui affiche un résumé des données"
   ]
  },
  {
   "cell_type": "code",
   "execution_count": null,
   "metadata": {},
   "outputs": [],
   "source": [
    "batiments.info()"
   ]
  },
  {
   "attachments": {},
   "cell_type": "markdown",
   "metadata": {},
   "source": [
    "- [head(n)](https://pandas.pydata.org/docs/reference/api/pandas.DataFrame.head.html) qui affiche les n premières lignes (par défaut 5)."
   ]
  },
  {
   "cell_type": "code",
   "execution_count": null,
   "metadata": {},
   "outputs": [],
   "source": [
    "batiments.head(10)"
   ]
  },
  {
   "attachments": {},
   "cell_type": "markdown",
   "metadata": {},
   "source": [
    "Une exploration plus 'manuelle' est également disponible avec les outils intégrés à l'IDE. \n",
    "[utilisation du greffon jupyter](static/screenshot_jupyter_.png)"
   ]
  },
  {
   "attachments": {},
   "cell_type": "markdown",
   "metadata": {},
   "source": [
    "## Application 1.2 : lire un fichier csv"
   ]
  },
  {
   "attachments": {},
   "cell_type": "markdown",
   "metadata": {},
   "source": [
    "Le second exercice consiste à lire un fichier csv (Comma-separated values).\n",
    "Le fichier en question est le fichier nommé ```laposte_hexasmal.csv```. Il se trouve dans le dossier ```data```.\n",
    "\n",
    "Nous rangerons les informations dans une variable appelée ```code_postal```.\n",
    "\n",
    "> ⚠️ Si le caractère séparant les cases n'est pas la virgule (```,```), il est nécessaire d'ajouter le paramètre ```sep```.\n",
    ">\n",
    "> Exemple, si les champs sont séparés par un 'pipe' (|), il faudra ecrire :\n",
    "> ``` python\n",
    ">   mes_donnees = pd.read_csv('mon_chemin/dacces', sep = '|')\n",
    "> ```\n",
    "\n",
    ">  ⚠️ La lecture des caractères accentués peut poser des problèmes. Il pourra être nécessaire de préciser l'encodage."
   ]
  },
  {
   "cell_type": "code",
   "execution_count": null,
   "metadata": {},
   "outputs": [],
   "source": [
    "la_poste =  # <- Ici, à vous de jouer !\n",
    "\n",
    "exercice_1_utils.correction_exercice_1_2.check(la_poste)"
   ]
  },
  {
   "attachments": {},
   "cell_type": "markdown",
   "metadata": {},
   "source": [
    "## Application 1.3 : Lire un ensemble de fichiers"
   ]
  },
  {
   "attachments": {},
   "cell_type": "markdown",
   "metadata": {},
   "source": [
    "Le dernier exercice de cette séquence consiste à récupérer l'ensemble des fichiers contenus dans un dossier.\n",
    "Pour simplifier, on part du principe que tous les fichiers ont la même structure.\n",
    "Les fichiers en questions sont contenus dans le dossier ```data/batiments```. Il y en a 20, tous au format ```.xlsx```."
   ]
  },
  {
   "attachments": {},
   "cell_type": "markdown",
   "metadata": {},
   "source": [
    "Dans un premier temps, il sera nécessaire de faire la liste des fichiers présents dans le dossier. Pour cela nous allons utiliser la bibliothèque `pathlib` et surtout un objet spécifique qu'elle contient `Path`. \n",
    "\n",
    "`Path` permet d'utiliser de manière plus aisée le système de fichier, quel que soit le système d'exploitation. Le documentation est disponible [en ligne](https://docs.python.org/3/library/pathlib.html#pathlib.Path)."
   ]
  },
  {
   "cell_type": "code",
   "execution_count": null,
   "metadata": {},
   "outputs": [],
   "source": [
    "from pathlib import Path"
   ]
  },
  {
   "attachments": {},
   "cell_type": "markdown",
   "metadata": {},
   "source": [
    "Créons un objet `Path` correspondant au chemin d'accès à nos données. Cette commande prend cette forme :\n",
    "```python\n",
    "chemin_vers_lendroit_qui_m_interresse = Path('dossier1/sous_dossier2')\n",
    "```"
   ]
  },
  {
   "cell_type": "code",
   "execution_count": null,
   "metadata": {},
   "outputs": [],
   "source": [
    "mon_chemin_dacces =  # <- Ici, à vous de jouer !\n",
    "\n",
    "exercice_1_utils.correction_exercice_1_3_1.check(mon_chemin_dacces)"
   ]
  },
  {
   "attachments": {},
   "cell_type": "markdown",
   "metadata": {},
   "source": [
    "Il est ensuite possible d'identifier les chemins \"enfants\" (ie tous les éléments présents dans ce dossier) avec la fonction glob ([informations](https://docs.python.org/3/library/pathlib.html#pathlib.Path.glob))\n",
    "```python\n",
    "contenu = chemin_vers_lendroit_qui_m_interresse.glob('*')\n",
    "```\n",
    "\n",
    "Cette fonction prend en paramètre un schéma. Dans notre cas, nous souhaitons n'obtenir que les fichiers dont l'extension est `.xlsx`, aussi nous appellerons la fonction glob avec le paramètre `'*.xlsx'`.\n",
    "\n",
    "La fonction retourne un générateur. Sans rentrer dans les détails, un générateur va pouvoir se comporter en de nombreux points comme une liste."
   ]
  },
  {
   "cell_type": "code",
   "execution_count": null,
   "metadata": {},
   "outputs": [],
   "source": [
    "liste_des_fichiers =   # <- Ici, à vous de jouer !\n",
    "\n",
    "exercice_1_utils.correction_exercice_1_3_2.check(liste_des_fichiers)"
   ]
  },
  {
   "attachments": {},
   "cell_type": "markdown",
   "metadata": {},
   "source": [
    "Pour récupérer toutes ces données nous allons les lire et les stocker dans une liste.\n",
    "\n",
    "Pour se faire nous allons utiliser une syntaxe assez spécifique à python : la compréhension de liste. Imaginons que nous voulons appliquer la fonction `fnc` à chaque élément d'une liste `x = [x1,x2,x3 .... ]` tel que le résultat sera `[fnc(x1),fnc(x2),fnc(x3)]`. Python nous permet de l'écrire sous la forme suivante :\n",
    "```python\n",
    "resultat = [fnc(element) for element in x]\n",
    "```\n",
    "\n",
    "En l’occurrence, la liste que nous souhaitons traiter est `liste_des_fichiers` et la fonction que nous souhaitons appliquer à ses éléments est `pd.read_excel()`.\n",
    "\n",
    "Le résultats est une liste de DataFrame, qu'il est enfantin de rassembler en un seul avec la fonction `pd.concat()`"
   ]
  },
  {
   "cell_type": "code",
   "execution_count": null,
   "metadata": {},
   "outputs": [],
   "source": [
    "liste_de_donnees =   # <- Ici, à vous de jouer !\n",
    "\n",
    "donnees = pd.concat(liste_de_donnees)\n",
    "\n",
    "exercice_1_utils.correction_exercice_1_3_3.check(donnees)\n"
   ]
  },
  {
   "cell_type": "code",
   "execution_count": null,
   "metadata": {},
   "outputs": [],
   "source": [
    "donnees.info()"
   ]
  }
 ],
 "metadata": {
  "kernelspec": {
   "display_name": "data_env",
   "language": "python",
   "name": "python3"
  },
  "language_info": {
   "codemirror_mode": {
    "name": "ipython",
    "version": 3
   },
   "file_extension": ".py",
   "mimetype": "text/x-python",
   "name": "python",
   "nbconvert_exporter": "python",
   "pygments_lexer": "ipython3",
   "version": "3.9.7"
  },
  "orig_nbformat": 4
 },
 "nbformat": 4,
 "nbformat_minor": 2
}
