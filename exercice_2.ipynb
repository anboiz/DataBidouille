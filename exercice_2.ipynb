{
 "cells": [
  {
   "cell_type": "code",
   "execution_count": null,
   "metadata": {},
   "outputs": [],
   "source": [
    "import exercice_2_utils\n",
    "import pandas as pd\n",
    "from pathlib import Path"
   ]
  },
  {
   "attachments": {},
   "cell_type": "markdown",
   "metadata": {},
   "source": [
    "# Exercice 2 : écrire sur le disque"
   ]
  },
  {
   "attachments": {},
   "cell_type": "markdown",
   "metadata": {},
   "source": [
    "Une fois encore `pandas` offre des outils pour enregistrer les données. C'est notamment le cas des fonctions `to_csv` qui permet d'écrire des fichiers au format CSV (éventuellement compressés) et `to_excel` qui permet d'écrire des fichiers au format `.xlsx` ou `.ods`.\n",
    "\n",
    "A noter également qu'il pourra s’avérer intéressant, selon les cas d'usage, d'utiliser d'autres formats, comme le `parquet` (on utilisera alors la fonction `to_parquet`).\n",
    "\n",
    "Pour plus d'informations, vous pouvez vous référer à la documentation (très bien faite mais en anglais...) :\n",
    "- [to_excel()](https://pandas.pydata.org/pandas-docs/stable/reference/api/pandas.DataFrame.to_excel.html)\n",
    "- [to_csv()](https://pandas.pydata.org/pandas-docs/stable/reference/api/pandas.DataFrame.to_csv.html)\n",
    "- [to_parquet()](https://pandas.pydata.org/pandas-docs/stable/reference/api/pandas.DataFrame.to_parquet.html)\n",
    "\n",
    "Ces fonctions sont la manière la plus facile d'enregistrer un ```DataFrame```."
   ]
  },
  {
   "attachments": {},
   "cell_type": "markdown",
   "metadata": {},
   "source": [
    "La syntaxe est similaire pour toutes ces fonctions. Aussi, si vous souhaitez enregistrer les données d'un DataFrame `mes_super_donnees`, vous utiliserez :\n",
    "\n",
    "> ```python\n",
    "> mes_super_donnees.to_csv('le_chemin\\le_fichier.csv') # Avec toutes les options possibles\n",
    "> ```"
   ]
  },
  {
   "attachments": {},
   "cell_type": "markdown",
   "metadata": {},
   "source": [
    "## Quel format choisir ?\n",
    "\n",
    "Pour enregistrer les données plusieurs formats sont possibles :\n",
    "\n",
    "- le format **CSV** : l'une des manières les plus courantes d'organiser et de formater les données. Le stockage des données CSV est basé sur un fichier texte organisé par lignes. Les données sont consultables et modifiable en utilisant MS Excel, LibreOffice Calc ou tout autre éditeur de texte. Le format est relativement rapide à lire avec python. Toutefois, il présente un inconvénient majeur : il ne garde pas trace du format des données, ainsi si on ne lui précise lors de la lecture le format attendu pour chaque colonne, on peut avoir de mauvaises surprises parfois. Par ailleurs, s'il n'est pas compressé, il peut être très vite très volumineux.\n",
    "\n",
    "- le format **tableur** : les formats usuels d'échanges de données avec les outils de tableur habituels sont ceux avec les extensions `.xlsx` ou `.ods`. Si ils se prêtent parfaitement à l'exercice de la lecture par un être humain, il n'est pas adapté à l'échange de données entre machines. Sa lecture et son écriture sont looooooooooonnnnnngues !\n",
    "\n",
    "- le format **parquet** : Apache Parquet est un format de fichiers binaires orienté colonne, initialement développé pour l'écosystème de calcul distribué Apache Hadoop. Il fournit des schémas efficaces de compression et de codage de données avec des performances améliorées pour gérer des données complexes en masse. Il est rapide à lire, à contenu égal moins volumineux que les autres format en utilisant la compression et garde les métadonnées tels que les types de valeurs de chaque colonne. Le plus gros inconvénient de ce format est qu'on ne peut pas le lire dans Excel.\n",
    "\n",
    "Aussi, pour les échanges de volumes de données importants de machine à machine ou  pour enregistrer des données qui seront réexploitées avec python, on pourra préférer le **parquet**, lorsqu'on cherche à s'adresser à des humains privilégier les formats **tableur** et entre les deux utiliser le **csv**."
   ]
  },
  {
   "attachments": {},
   "cell_type": "markdown",
   "metadata": {},
   "source": [
    "## Application 2.1 : enregistrer en CSV"
   ]
  },
  {
   "attachments": {},
   "cell_type": "markdown",
   "metadata": {},
   "source": [
    "Le premier exercice va consister à écrire les données d'un dataFrame basique dans un fichier csv que l'on placera dans le dossier `sortie`."
   ]
  },
  {
   "cell_type": "code",
   "execution_count": null,
   "metadata": {},
   "outputs": [],
   "source": [
    "# Création du DataFrame basique\n",
    "donnees = pd.DataFrame({\n",
    "    'numero' : ['01','02','03','04','05','06'],\n",
    "    'nom' : ['Ain', 'Aisne', 'Allier', 'Basses-Alpes', 'Hautes-Alpes', 'Alpes-Maritimes'],\n",
    "    'Prefecture' : ['Bourg-en-Bresse', 'Laon', 'Moulins', 'Digne-les-Bains', 'Gap', 'Nice']\n",
    "})"
   ]
  },
  {
   "attachments": {},
   "cell_type": "markdown",
   "metadata": {},
   "source": [
    "Nous allons enregistrer les données dans un fichier appelé `prefectures.csv`, que nous placerons dans le dossier `sortie`.\n",
    "Nous utiliserons les option suivantes :\n",
    "- *index = False*, n'enregistre pas le numero d'index en première colonne\n",
    "- *encoding = 'utf-8'*\n",
    "- *sep = ';'* afin que les valeurs soient séparée par des ';' et non des ','"
   ]
  },
  {
   "cell_type": "code",
   "execution_count": null,
   "metadata": {},
   "outputs": [],
   "source": [
    "fichier_sortie = Path('sortie/prefecture.csv')\n",
    "\n",
    "donnees  # <- Ici, à vous de jouer !\n",
    "\n",
    "exercice_2_utils.correction_exercice_2_1.check(fichier_sortie)"
   ]
  }
 ],
 "metadata": {
  "kernelspec": {
   "display_name": "data_env",
   "language": "python",
   "name": "python3"
  },
  "language_info": {
   "codemirror_mode": {
    "name": "ipython",
    "version": 3
   },
   "file_extension": ".py",
   "mimetype": "text/x-python",
   "name": "python",
   "nbconvert_exporter": "python",
   "pygments_lexer": "ipython3",
   "version": "3.9.7"
  },
  "orig_nbformat": 4
 },
 "nbformat": 4,
 "nbformat_minor": 2
}
